{
 "cells": [
  {
   "metadata": {
    "ExecuteTime": {
     "end_time": "2024-09-23T19:42:22.315868Z",
     "start_time": "2024-09-23T19:42:21.526153Z"
    }
   },
   "cell_type": "code",
   "source": [
    "import pandas as pd\n",
    "import matplotlib.pyplot as plt\n",
    "import seaborn as sns\n",
    "plt.style.use('https://github.com/dhaitz/matplotlib-stylesheets/raw/master/pitayasmoothie-dark.mplstyle')"
   ],
   "id": "4bcc61655a019033",
   "outputs": [],
   "execution_count": 2
  },
  {
   "metadata": {
    "ExecuteTime": {
     "end_time": "2024-09-23T19:42:22.327993Z",
     "start_time": "2024-09-23T19:42:22.317062Z"
    }
   },
   "cell_type": "code",
   "source": [
    " # тип энкодинга достал после проверки с библиотекой chardet \n",
    "\n",
    "df = pd.read_csv('Статистика.csv', encoding='windows-1251')"
   ],
   "id": "6e4d50910a386a60",
   "outputs": [],
   "execution_count": 3
  },
  {
   "metadata": {
    "ExecuteTime": {
     "end_time": "2024-09-23T19:42:22.710994Z",
     "start_time": "2024-09-23T19:42:22.704947Z"
    }
   },
   "cell_type": "code",
   "source": "df.head()",
   "id": "acfcfa27494c1e2c",
   "outputs": [
    {
     "data": {
      "text/plain": [
       "   Количество больничных дней  Возраст Пол\n",
       "0                           5       39   Ж\n",
       "1                           4       54   М\n",
       "2                           4       26   М\n",
       "3                           5       42   М\n",
       "4                           4       29   М"
      ],
      "text/html": [
       "<div>\n",
       "<style scoped>\n",
       "    .dataframe tbody tr th:only-of-type {\n",
       "        vertical-align: middle;\n",
       "    }\n",
       "\n",
       "    .dataframe tbody tr th {\n",
       "        vertical-align: top;\n",
       "    }\n",
       "\n",
       "    .dataframe thead th {\n",
       "        text-align: right;\n",
       "    }\n",
       "</style>\n",
       "<table border=\"1\" class=\"dataframe\">\n",
       "  <thead>\n",
       "    <tr style=\"text-align: right;\">\n",
       "      <th></th>\n",
       "      <th>Количество больничных дней</th>\n",
       "      <th>Возраст</th>\n",
       "      <th>Пол</th>\n",
       "    </tr>\n",
       "  </thead>\n",
       "  <tbody>\n",
       "    <tr>\n",
       "      <th>0</th>\n",
       "      <td>5</td>\n",
       "      <td>39</td>\n",
       "      <td>Ж</td>\n",
       "    </tr>\n",
       "    <tr>\n",
       "      <th>1</th>\n",
       "      <td>4</td>\n",
       "      <td>54</td>\n",
       "      <td>М</td>\n",
       "    </tr>\n",
       "    <tr>\n",
       "      <th>2</th>\n",
       "      <td>4</td>\n",
       "      <td>26</td>\n",
       "      <td>М</td>\n",
       "    </tr>\n",
       "    <tr>\n",
       "      <th>3</th>\n",
       "      <td>5</td>\n",
       "      <td>42</td>\n",
       "      <td>М</td>\n",
       "    </tr>\n",
       "    <tr>\n",
       "      <th>4</th>\n",
       "      <td>4</td>\n",
       "      <td>29</td>\n",
       "      <td>М</td>\n",
       "    </tr>\n",
       "  </tbody>\n",
       "</table>\n",
       "</div>"
      ]
     },
     "execution_count": 4,
     "metadata": {},
     "output_type": "execute_result"
    }
   ],
   "execution_count": 4
  },
  {
   "metadata": {
    "ExecuteTime": {
     "end_time": "2024-09-23T19:42:23.384588Z",
     "start_time": "2024-09-23T19:42:23.381128Z"
    }
   },
   "cell_type": "code",
   "source": "df.shape",
   "id": "e83598756993e0b4",
   "outputs": [
    {
     "data": {
      "text/plain": [
       "(237, 3)"
      ]
     },
     "execution_count": 5,
     "metadata": {},
     "output_type": "execute_result"
    }
   ],
   "execution_count": 5
  },
  {
   "metadata": {
    "ExecuteTime": {
     "end_time": "2024-09-23T19:42:23.908484Z",
     "start_time": "2024-09-23T19:42:23.900483Z"
    }
   },
   "cell_type": "code",
   "source": "df.info()",
   "id": "7a707325eb8ca52c",
   "outputs": [
    {
     "name": "stdout",
     "output_type": "stream",
     "text": [
      "<class 'pandas.core.frame.DataFrame'>\n",
      "RangeIndex: 237 entries, 0 to 236\n",
      "Data columns (total 3 columns):\n",
      " #   Column                      Non-Null Count  Dtype \n",
      "---  ------                      --------------  ----- \n",
      " 0   Количество больничных дней  237 non-null    int64 \n",
      " 1   Возраст                     237 non-null    int64 \n",
      " 2   Пол                         237 non-null    object\n",
      "dtypes: int64(2), object(1)\n",
      "memory usage: 5.7+ KB\n"
     ]
    }
   ],
   "execution_count": 6
  },
  {
   "metadata": {},
   "cell_type": "markdown",
   "source": "Визуально ознакамливаемся с данными, чтобы посмотреть на распределение, выбросы и прочие штуки",
   "id": "57383d96a0f44169"
  },
  {
   "metadata": {
    "ExecuteTime": {
     "end_time": "2024-09-23T19:44:56.267304Z",
     "start_time": "2024-09-23T19:44:55.421997Z"
    }
   },
   "cell_type": "code",
   "source": [
    "from funcs import histplots\n",
    "    \n",
    "histplots(df)"
   ],
   "id": "14291d95ad3a44f4",
   "outputs": [
    {
     "data": {
      "text/plain": [
       "<Figure size 1800x600 with 3 Axes>"
      ],
      "image/png": "[encoded data removed]"
     },
     "metadata": {},
     "output_type": "display_data"
    }
   ],
   "execution_count": 8
  },
  {
   "metadata": {},
   "cell_type": "markdown",
   "source": [
    "# Гипотеза 1\n",
    "\n",
    "### H0\n",
    "Мужчины и женщины пропускают более 2 рабочих дней по болезни с одинаковой частотой.\n",
    "\n",
    "### H1\n",
    "Мужчины пропускают более 2 рабочих дней по болезни значимо чаще женщин."
   ],
   "id": "40b4249282b7c2be"
  },
  {
   "metadata": {
    "ExecuteTime": {
     "end_time": "2024-09-23T19:03:19.742738Z",
     "start_time": "2024-09-23T19:03:19.740008Z"
    }
   },
   "cell_type": "code",
   "source": "df['Прогульщики'] = df['Количество больничных дней'] > 2",
   "id": "729da90a71a323f4",
   "outputs": [],
   "execution_count": 33
  },
  {
   "metadata": {},
   "cell_type": "markdown",
   "source": "Уже по графику видно, что H1 скорее всего не взлетит, но для верности сделаем тест, в качестве статистики выберем хи-квадрат, так как мы сравниваем частоты в категориальных признаках",
   "id": "5db065655542af21"
  },
  {
   "metadata": {
    "ExecuteTime": {
     "end_time": "2024-09-23T19:06:19.182896Z",
     "start_time": "2024-09-23T19:06:19.096099Z"
    }
   },
   "cell_type": "code",
   "source": [
    "fig, ax = plt.subplots(figsize=(10, 6))\n",
    "\n",
    "sns.barplot(x='Пол', y='Прогульщики', data=df, ax=ax)\n",
    "\n",
    "ax.set_ylabel('Доля сотрудников')\n",
    "ax.set_xlabel('Пол');"
   ],
   "id": "8a37c8f9ea18c60d",
   "outputs": [
    {
     "data": {
      "text/plain": [
       "<Figure size 1000x600 with 1 Axes>"
      ],
      "image/png": "[encoded data removed]"
     },
     "metadata": {},
     "output_type": "display_data"
    }
   ],
   "execution_count": 40
  },
  {
   "metadata": {
    "ExecuteTime": {
     "end_time": "2024-09-23T19:07:57.120598Z",
     "start_time": "2024-09-23T19:07:57.112233Z"
    }
   },
   "cell_type": "code",
   "source": [
    "cross_gender = pd.crosstab(df['Пол'], df['Прогульщики'])\n",
    "cross_gender"
   ],
   "id": "8053dd03e1cec963",
   "outputs": [
    {
     "data": {
      "text/plain": [
       "Прогульщики  False  True \n",
       "Пол                      \n",
       "Ж               31     67\n",
       "М               55     84"
      ],
      "text/html": [
       "<div>\n",
       "<style scoped>\n",
       "    .dataframe tbody tr th:only-of-type {\n",
       "        vertical-align: middle;\n",
       "    }\n",
       "\n",
       "    .dataframe tbody tr th {\n",
       "        vertical-align: top;\n",
       "    }\n",
       "\n",
       "    .dataframe thead th {\n",
       "        text-align: right;\n",
       "    }\n",
       "</style>\n",
       "<table border=\"1\" class=\"dataframe\">\n",
       "  <thead>\n",
       "    <tr style=\"text-align: right;\">\n",
       "      <th>Прогульщики</th>\n",
       "      <th>False</th>\n",
       "      <th>True</th>\n",
       "    </tr>\n",
       "    <tr>\n",
       "      <th>Пол</th>\n",
       "      <th></th>\n",
       "      <th></th>\n",
       "    </tr>\n",
       "  </thead>\n",
       "  <tbody>\n",
       "    <tr>\n",
       "      <th>Ж</th>\n",
       "      <td>31</td>\n",
       "      <td>67</td>\n",
       "    </tr>\n",
       "    <tr>\n",
       "      <th>М</th>\n",
       "      <td>55</td>\n",
       "      <td>84</td>\n",
       "    </tr>\n",
       "  </tbody>\n",
       "</table>\n",
       "</div>"
      ]
     },
     "execution_count": 42,
     "metadata": {},
     "output_type": "execute_result"
    }
   ],
   "execution_count": 42
  },
  {
   "metadata": {},
   "cell_type": "markdown",
   "source": "Фиксируем альфу на привычных 5% и запускаем тестирование с Хи-квадрат статистикой",
   "id": "8461329f5c000a8d"
  },
  {
   "metadata": {
    "ExecuteTime": {
     "end_time": "2024-09-23T19:09:10.248215Z",
     "start_time": "2024-09-23T19:09:10.245567Z"
    }
   },
   "cell_type": "code",
   "source": [
    "from scipy.stats import chi2_contingency\n",
    "\n",
    "chi2, p, _, _ = chi2_contingency(cross_gender)\n",
    "print(f\"Хи-квадрат: {chi2:.3f}, p-value: {p:.3f}\")"
   ],
   "id": "5de438087157053d",
   "outputs": [
    {
     "name": "stdout",
     "output_type": "stream",
     "text": [
      "Хи-квадрат: 1.241, p-value: 0.265\n"
     ]
    }
   ],
   "execution_count": 46
  },
  {
   "metadata": {},
   "cell_type": "markdown",
   "source": "Итог: p-value существенно выше нашей альфы, отвергаем H1",
   "id": "a68ef6591689ae2b"
  },
  {
   "metadata": {},
   "cell_type": "markdown",
   "source": [
    "# Гипотеза 2\n",
    "\n",
    "### H0\n",
    "Сотрудники в возрасте до 35 лет и старше 35 лет пропускают более 2 рабочих дней по болезни с одинаковой частотой.\n",
    "\n",
    "### H1\n",
    "Сотрудники старше 35 лет пропускают более 2 рабочих дней по болезни значимо чаще."
   ],
   "id": "1298f1d92a5a09fe"
  },
  {
   "metadata": {
    "ExecuteTime": {
     "end_time": "2024-09-23T19:12:43.628741Z",
     "start_time": "2024-09-23T19:12:43.626283Z"
    }
   },
   "cell_type": "code",
   "source": "df['старше_35'] = df['Возраст'] > 35",
   "id": "811011c99d4f4d57",
   "outputs": [],
   "execution_count": 48
  },
  {
   "metadata": {},
   "cell_type": "markdown",
   "source": "По графику доли почти равны, проведем тест",
   "id": "e7acfeffb53b2c4c"
  },
  {
   "metadata": {
    "ExecuteTime": {
     "end_time": "2024-09-23T19:14:35.967359Z",
     "start_time": "2024-09-23T19:14:35.882425Z"
    }
   },
   "cell_type": "code",
   "source": [
    "fig, ax = plt.subplots(figsize=(10, 6))\n",
    "\n",
    "sns.barplot(x='старше_35', y='Прогульщики', data=df, ax=ax)\n",
    "\n",
    "ax.set_ylabel('Доля сотрудников')\n",
    "ax.set_xlabel('Сотрудники старше 35');"
   ],
   "id": "2170fae2e7a17f49",
   "outputs": [
    {
     "data": {
      "text/plain": [
       "<Figure size 1000x600 with 1 Axes>"
      ],
      "image/png": "[encoded data removed]"
     },
     "metadata": {},
     "output_type": "display_data"
    }
   ],
   "execution_count": 53
  },
  {
   "metadata": {
    "ExecuteTime": {
     "end_time": "2024-09-23T19:15:23.839205Z",
     "start_time": "2024-09-23T19:15:23.833261Z"
    }
   },
   "cell_type": "code",
   "source": [
    "cross_age = pd.crosstab(df['старше_35'], df['Прогульщики'])\n",
    "cross_age"
   ],
   "id": "ab2a493410131d4f",
   "outputs": [
    {
     "data": {
      "text/plain": [
       "Прогульщики  False  True \n",
       "старше_35                \n",
       "False           21     36\n",
       "True            65    115"
      ],
      "text/html": [
       "<div>\n",
       "<style scoped>\n",
       "    .dataframe tbody tr th:only-of-type {\n",
       "        vertical-align: middle;\n",
       "    }\n",
       "\n",
       "    .dataframe tbody tr th {\n",
       "        vertical-align: top;\n",
       "    }\n",
       "\n",
       "    .dataframe thead th {\n",
       "        text-align: right;\n",
       "    }\n",
       "</style>\n",
       "<table border=\"1\" class=\"dataframe\">\n",
       "  <thead>\n",
       "    <tr style=\"text-align: right;\">\n",
       "      <th>Прогульщики</th>\n",
       "      <th>False</th>\n",
       "      <th>True</th>\n",
       "    </tr>\n",
       "    <tr>\n",
       "      <th>старше_35</th>\n",
       "      <th></th>\n",
       "      <th></th>\n",
       "    </tr>\n",
       "  </thead>\n",
       "  <tbody>\n",
       "    <tr>\n",
       "      <th>False</th>\n",
       "      <td>21</td>\n",
       "      <td>36</td>\n",
       "    </tr>\n",
       "    <tr>\n",
       "      <th>True</th>\n",
       "      <td>65</td>\n",
       "      <td>115</td>\n",
       "    </tr>\n",
       "  </tbody>\n",
       "</table>\n",
       "</div>"
      ]
     },
     "execution_count": 54,
     "metadata": {},
     "output_type": "execute_result"
    }
   ],
   "execution_count": 54
  },
  {
   "metadata": {
    "ExecuteTime": {
     "end_time": "2024-09-23T19:16:42.235298Z",
     "start_time": "2024-09-23T19:16:42.232856Z"
    }
   },
   "cell_type": "code",
   "source": [
    "chi2, p, _, _ = chi2_contingency(cross_age)\n",
    "print(f\"Chi-square statistic: {chi2}, p-value: {p}\")"
   ],
   "id": "a30abe58ba88e613",
   "outputs": [
    {
     "name": "stdout",
     "output_type": "stream",
     "text": [
      "Chi-square statistic: 0.0, p-value: 1.0\n"
     ]
    }
   ],
   "execution_count": 56
  },
  {
   "metadata": {},
   "cell_type": "markdown",
   "source": "Ну собственно p-value 1 говорит о том, что нет какой связи между пропусками и возрастом в 35 лет или ниже, поэтому отвергаем H1.",
   "id": "c36b296dc54c16af"
  }
 ],
 "metadata": {
  "kernelspec": {
   "display_name": "Python 3",
   "language": "python",
   "name": "python3"
  },
  "language_info": {
   "codemirror_mode": {
    "name": "ipython",
    "version": 2
   },
   "file_extension": ".py",
   "mimetype": "text/x-python",
   "name": "python",
   "nbconvert_exporter": "python",
   "pygments_lexer": "ipython2",
   "version": "2.7.6"
  }
 },
 "nbformat": 4,
 "nbformat_minor": 5
}
